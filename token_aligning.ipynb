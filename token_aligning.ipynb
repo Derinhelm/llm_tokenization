{
  "nbformat": 4,
  "nbformat_minor": 0,
  "metadata": {
    "colab": {
      "provenance": [],
      "toc_visible": true,
      "authorship_tag": "ABX9TyNj0LDndrH3W9t5wLnUJCbP",
      "include_colab_link": true
    },
    "kernelspec": {
      "name": "python3",
      "display_name": "Python 3"
    },
    "language_info": {
      "name": "python"
    }
  },
  "cells": [
    {
      "cell_type": "markdown",
      "metadata": {
        "id": "view-in-github",
        "colab_type": "text"
      },
      "source": [
        "<a href=\"https://colab.research.google.com/github/Derinhelm/llm_tokenization/blob/main/token_aligning.ipynb\" target=\"_parent\"><img src=\"https://colab.research.google.com/assets/colab-badge.svg\" alt=\"Open In Colab\"/></a>"
      ]
    },
    {
      "cell_type": "code",
      "execution_count": 1,
      "metadata": {
        "colab": {
          "base_uri": "https://localhost:8080/"
        },
        "id": "v7H-bxHBF1Sk",
        "outputId": "85ebd0eb-c5a8-48d6-eb87-e5944058004b"
      },
      "outputs": [
        {
          "output_type": "stream",
          "name": "stdout",
          "text": [
            "Cloning into 'llm_tokenization'...\n",
            "remote: Enumerating objects: 29, done.\u001b[K\n",
            "remote: Counting objects: 100% (5/5), done.\u001b[K\n",
            "remote: Compressing objects: 100% (4/4), done.\u001b[K\n",
            "remote: Total 29 (delta 0), reused 2 (delta 0), pack-reused 24 (from 1)\u001b[K\n",
            "Receiving objects: 100% (29/29), 52.46 MiB | 8.04 MiB/s, done.\n",
            "Resolving deltas: 100% (11/11), done.\n"
          ]
        }
      ],
      "source": [
        "!git clone https://github.com/Derinhelm/llm_tokenization"
      ]
    },
    {
      "cell_type": "code",
      "source": [
        "import sys\n",
        "sys.path.append('/content/llm_tokenization')"
      ],
      "metadata": {
        "id": "GFxnBQQEF9Qn"
      },
      "execution_count": 2,
      "outputs": []
    },
    {
      "cell_type": "code",
      "source": [
        "from data_classes import ConllEntry, Sentence"
      ],
      "metadata": {
        "id": "r9Qwmb_jF9S2"
      },
      "execution_count": 3,
      "outputs": []
    },
    {
      "cell_type": "code",
      "source": [
        "import pickle\n",
        "\n",
        "with open('/content/llm_tokenization/treebank_test_sets/treebank_data.pickle', 'rb') as f:\n",
        "    treebanks = pickle.load(f)"
      ],
      "metadata": {
        "id": "PnhSoZrXGGI5"
      },
      "execution_count": 4,
      "outputs": []
    },
    {
      "cell_type": "code",
      "source": [],
      "metadata": {
        "id": "BUwRsmkCYxco"
      },
      "execution_count": 4,
      "outputs": []
    },
    {
      "cell_type": "code",
      "source": [
        "treebank_names = list(treebanks.keys())\n",
        "treebank_names"
      ],
      "metadata": {
        "colab": {
          "base_uri": "https://localhost:8080/"
        },
        "id": "WQSvGMT3WzMT",
        "outputId": "f89a3b47-7cee-42a9-f189-83af1a2b929f"
      },
      "execution_count": 5,
      "outputs": [
        {
          "output_type": "execute_result",
          "data": {
            "text/plain": [
              "['gsd', 'pud', 'syntagrus', 'poetry', 'taiga']"
            ]
          },
          "metadata": {},
          "execution_count": 5
        }
      ]
    },
    {
      "cell_type": "code",
      "source": [
        "for tr in treebank_names:\n",
        "  for s in treebanks[tr]:\n",
        "    s.tokens = [ t for t in s.tokens if '.' not in t.id ]\n",
        "    s.text = s.text.replace('\\xa0', \" \") # Замена неразрывного пробела"
      ],
      "metadata": {
        "id": "04__jPTBY11e"
      },
      "execution_count": 6,
      "outputs": []
    },
    {
      "cell_type": "code",
      "source": [
        "import pickle\n",
        "\n",
        "with open('/content/llm_tokenization/results/sent_subtokens.pickle', 'rb') as f:\n",
        "    original_sent_subtokens = pickle.load(f)"
      ],
      "metadata": {
        "id": "90WO1ChgGGK1"
      },
      "execution_count": 7,
      "outputs": []
    },
    {
      "cell_type": "code",
      "source": [
        "for m_name in original_sent_subtokens.keys():\n",
        "  for tr in treebank_names:\n",
        "    assert len(treebanks[tr]) == len(original_sent_subtokens[m_name][tr])"
      ],
      "metadata": {
        "id": "BBACUGtDfOZV"
      },
      "execution_count": 8,
      "outputs": []
    },
    {
      "cell_type": "code",
      "source": [
        "model_names = list(original_sent_subtokens.keys())"
      ],
      "metadata": {
        "id": "LuaXslPDGGND"
      },
      "execution_count": 9,
      "outputs": []
    },
    {
      "cell_type": "code",
      "source": [
        "model_names"
      ],
      "metadata": {
        "colab": {
          "base_uri": "https://localhost:8080/"
        },
        "id": "_jGluRRcUosZ",
        "outputId": "874f9362-1cbe-4f0d-d677-c2c665cbf81a"
      },
      "execution_count": 10,
      "outputs": [
        {
          "output_type": "execute_result",
          "data": {
            "text/plain": [
              "['Qwen3_4B', 'RuadaptQwen3_4B_Instruct']"
            ]
          },
          "metadata": {},
          "execution_count": 10
        }
      ]
    },
    {
      "cell_type": "code",
      "source": [
        "sent_subtokens = { m_name: {} for m_name in model_names }\n",
        "for m_name in model_names:\n",
        "  sent_subtokens[m_name] = { tr: {} for tr in treebank_names }\n",
        "  for tr in treebank_names:\n",
        "    for sent_id in original_sent_subtokens[m_name][tr].keys():\n",
        "      d = original_sent_subtokens[m_name][tr][sent_id]\n",
        "      sent_subtokens[m_name][tr][sent_id] = {}\n",
        "      sent_subtokens[m_name][tr][sent_id]['token_texts'] = d[1][3:-2]\n",
        "      sent_subtokens[m_name][tr][sent_id]['offsets'] = d[0]['offset_mapping'][0][3:-2] - d[0]['offset_mapping'][0][3][0]\n",
        "      sent_subtokens[m_name][tr][sent_id]['subtoken_len'] = d[2][3:-2]"
      ],
      "metadata": {
        "id": "tHOjWcb8WkcM"
      },
      "execution_count": 11,
      "outputs": []
    },
    {
      "cell_type": "code",
      "source": [
        "for m_name in model_names:\n",
        "  for tr in treebank_names:\n",
        "    for s in treebanks[tr]:\n",
        "      #print(s.text.replace(\" \", \"\"))\n",
        "      #print(\"\".join(map(lambda x: x[0].replace(\" \", \"\"),\n",
        "      #                                                             sent_subtokens[m_name][tr][s.sent_id]['subtoken_len'])))\n",
        "      assert s.text.replace(\" \", \"\") == \"\".join(map(lambda x: x[0].replace(\" \", \"\"),\n",
        "                                                                   sent_subtokens[m_name][tr][s.sent_id]['subtoken_len']))\n",
        "      assert all([ ord(symb) != chr(65533)\n",
        "                  for st in sent_subtokens[m_name][tr][s.sent_id]['subtoken_len']\n",
        "                  for symb in st[0] ])"
      ],
      "metadata": {
        "id": "Uy-pOTQ9Hv-K"
      },
      "execution_count": 13,
      "outputs": []
    },
    {
      "cell_type": "code",
      "source": [
        "m_name = 'Qwen3_4B'\n",
        "tr = 'gsd'\n",
        "sent_id = 'test-s10'\n",
        "print(sent_subtokens[m_name][tr][sent_id]['token_texts'][30:34])\n",
        "print(sent_subtokens[m_name][tr]['test-s10']['subtoken_len'][30:33])"
      ],
      "metadata": {
        "colab": {
          "base_uri": "https://localhost:8080/"
        },
        "id": "3yFYlA48HlPw",
        "outputId": "507db7de-dd33-4cfc-9f48-22a532dd27f6"
      },
      "execution_count": 14,
      "outputs": [
        {
          "output_type": "stream",
          "name": "stdout",
          "text": [
            "['з', 'а�', '�от', 'илось']\n",
            "[('з', 1), ('абот', 2), ('илось', 1)]\n"
          ]
        }
      ]
    },
    {
      "cell_type": "markdown",
      "source": [
        "# Создание статистики по количеству субтокенов в токенах дерева зависимостей\n"
      ],
      "metadata": {
        "id": "-bp5mrl3Jvxq"
      }
    },
    {
      "cell_type": "code",
      "source": [
        "from collections import defaultdict\n",
        "\n",
        "def align_tokens(gold_tokens, subtoken_lens):\n",
        "    tokens1 = [ t.form.replace(\" \", \"\") for t in gold_tokens ]\n",
        "    tokens2 = [ t[0].replace(\" \", \"\") for t in subtoken_lens ]\n",
        "    token_lens2 = [ t[1] for t in subtoken_lens ]\n",
        "    assert len(tokens2) == len(token_lens2)\n",
        "    #print(tokens1)\n",
        "\n",
        "    x1 = [ (i, symb) for i, t in enumerate(tokens1) for symb in t ]\n",
        "    x2 = [ (i, symb) for i, t in enumerate(tokens2) for symb in t ]\n",
        "    #print([e[1] for e in x1])\n",
        "    #print([e[1] for e in x2])\n",
        "    assert len(x1) == len(x2)\n",
        "\n",
        "    x = []\n",
        "    for i in range(len(x1)):\n",
        "        assert x1[i][1] == x2[i][1]\n",
        "        x.append((x1[i][0], x2[i][0]))\n",
        "\n",
        "    fst_dict = defaultdict(set)\n",
        "    snd_dict = defaultdict(set)\n",
        "    for fst, snd in x:\n",
        "      fst_dict[fst].add(snd)\n",
        "      snd_dict[snd].add(fst)\n",
        "    errors_snd = [ snd for snd in snd_dict if len(snd_dict[snd]) > 1]\n",
        "    errors_fst = { fst for snd in errors_snd for fst in snd_dict[snd] }\n",
        "\n",
        "    res = []\n",
        "    for i, t in enumerate(treebanks[tr][sent_i].tokens):\n",
        "      if i not in errors_fst:\n",
        "          res.append((tokens1[i].strip(), [ (tokens2[j].strip(), token_lens2[j]) for j in fst_dict[i]]))\n",
        "      else:\n",
        "          res.append((tokens1[i], None, 0))\n",
        "    return res"
      ],
      "metadata": {
        "id": "D7fGqO3AKlBQ"
      },
      "execution_count": 46,
      "outputs": []
    },
    {
      "cell_type": "code",
      "source": [
        "# Проверка на обычном предложении\n",
        "m_name = 'Qwen3_4B'\n",
        "tr = 'syntagrus'\n",
        "sent_i = 8475\n",
        "sent_id = '2020_RFFIMoskva_2042.xml_418'\n",
        "align_tokens(treebanks[tr][sent_i].tokens, sent_subtokens[m_name][tr][sent_id]['subtoken_len'])"
      ],
      "metadata": {
        "colab": {
          "base_uri": "https://localhost:8080/"
        },
        "id": "_VqdvT1OUcT0",
        "outputId": "a10c6037-40ca-44a4-8066-79df2927eae6"
      },
      "execution_count": 47,
      "outputs": [
        {
          "output_type": "execute_result",
          "data": {
            "text/plain": [
              "[('Я', [('Я', 1)]),\n",
              " ('посмотрел', [('по', 1), ('смотр', 1), ('ел', 1)]),\n",
              " ('на', [('на', 1)]),\n",
              " ('часы', [('час', 1), ('ы', 1)]),\n",
              " ('.', [('.', 1)])]"
            ]
          },
          "metadata": {},
          "execution_count": 47
        }
      ]
    },
    {
      "cell_type": "code",
      "source": [
        "# Проверка на составном субтокене (абот - 2 субтокена)\n",
        "m_name = 'Qwen3_4B'\n",
        "tr = 'gsd'\n",
        "sent_id = 'test-s10'\n",
        "sent_i = 9\n",
        "align_tokens(treebanks[tr][sent_i].tokens, sent_subtokens[m_name][tr][sent_id]['subtoken_len'])[10:14]"
      ],
      "metadata": {
        "colab": {
          "base_uri": "https://localhost:8080/"
        },
        "id": "uZJdIiWJVA1F",
        "outputId": "8da606d8-4cff-4a62-a911-d20373d175c5"
      },
      "execution_count": 48,
      "outputs": [
        {
          "output_type": "execute_result",
          "data": {
            "text/plain": [
              "[(',', [(',', 1)]),\n",
              " ('правительство', [('правитель', 1), ('ство', 1)]),\n",
              " ('озаботилось', [('илось', 1), ('о', 1), ('з', 1), ('абот', 2)]),\n",
              " ('её', [('её', 1)])]"
            ]
          },
          "metadata": {},
          "execution_count": 48
        }
      ]
    },
    {
      "cell_type": "code",
      "source": [
        "# Проверка на предложении, в котором субтокен '\",' принадлежит двум эталонным токенам\n",
        "m_name = 'Qwen3_4B'\n",
        "tr = 'taiga'\n",
        "sent_i = 864\n",
        "sent_id = '7249'\n",
        "align_tokens(treebanks[tr][sent_i].tokens, sent_subtokens[m_name][tr][sent_id]['subtoken_len'])"
      ],
      "metadata": {
        "colab": {
          "base_uri": "https://localhost:8080/"
        },
        "id": "xOxj8wsAUCtm",
        "outputId": "8602d5eb-b8c3-41b8-b7aa-34a2b8b483a9"
      },
      "execution_count": 50,
      "outputs": [
        {
          "output_type": "execute_result",
          "data": {
            "text/plain": [
              "[('ресурс', [('ресурс', 1)]),\n",
              " ('не', [('не', 1)]),\n",
              " ('\"', [('\"', 1)]),\n",
              " ('воз', [('воз', 1)]),\n",
              " ('и', [('и', 1)]),\n",
              " ('ныне', [('н', 1), ('ы', 1), ('не', 1)]),\n",
              " ('там', [('там', 1)]),\n",
              " ('\"', None, 0),\n",
              " (',', None, 0),\n",
              " ('а', [('а', 1)]),\n",
              " ('превратился', [('пр', 1), ('ев', 1), ('рат', 1), ('ился', 1)]),\n",
              " ('в', [('в', 1)]),\n",
              " ('мощный', [('мощ', 1), ('ный', 1)]),\n",
              " ('бульдозер', [('б', 1), ('уль', 1), ('д', 1), ('оз', 1), ('ер', 1)]),\n",
              " ('.', [('.', 1)])]"
            ]
          },
          "metadata": {},
          "execution_count": 50
        }
      ]
    },
    {
      "cell_type": "code",
      "source": [
        "gold_token_stat = { m_name: {} for m_name in model_names }\n",
        "for m_name in model_names:\n",
        "  gold_token_stat[m_name] = { tr: {} for tr in treebank_names }\n",
        "  for tr in treebank_names:\n",
        "    for sent_i, s in enumerate(treebanks[tr]):\n",
        "      gold_token_stat[m_name][tr][s.sent_id] = align_tokens(\n",
        "          treebanks[tr][sent_i].tokens, sent_subtokens[m_name][tr][s.sent_id]['subtoken_len'])"
      ],
      "metadata": {
        "id": "OEgzSLrpLcxw"
      },
      "execution_count": 51,
      "outputs": []
    },
    {
      "cell_type": "markdown",
      "source": [
        "# Статистика по количеству субтокенов в эталонном токене"
      ],
      "metadata": {
        "id": "TL30TC8zVwQH"
      }
    },
    {
      "cell_type": "code",
      "source": [
        "subtoken_amount = { m_name: {} for m_name in model_names }\n",
        "for m_name in model_names:\n",
        "  subtoken_amount[m_name] = { tr: {} for tr in treebank_names }\n",
        "  for tr in treebank_names:\n",
        "    for sent_i, s in enumerate(treebanks[tr]):\n",
        "      subtoken_amount[m_name][tr][s.sent_id] = [ (d[0], sum(map(lambda x: x[1], d[1])) if d[1] != None else None)\n",
        "                                                        for d in gold_token_stat[m_name][tr][s.sent_id]]"
      ],
      "metadata": {
        "id": "NclsvFnntXtr"
      },
      "execution_count": 71,
      "outputs": []
    },
    {
      "cell_type": "code",
      "source": [
        "subtoken_amount['Qwen3_4B']['taiga']['7249']"
      ],
      "metadata": {
        "colab": {
          "base_uri": "https://localhost:8080/"
        },
        "id": "FNLg991ptnTI",
        "outputId": "056e5494-db86-4848-c543-e245791bbc10"
      },
      "execution_count": 75,
      "outputs": [
        {
          "output_type": "execute_result",
          "data": {
            "text/plain": [
              "[('ресурс', 1),\n",
              " ('не', 1),\n",
              " ('\"', 1),\n",
              " ('воз', 1),\n",
              " ('и', 1),\n",
              " ('ныне', 3),\n",
              " ('там', 1),\n",
              " ('\"', None),\n",
              " (',', None),\n",
              " ('а', 1),\n",
              " ('превратился', 4),\n",
              " ('в', 1),\n",
              " ('мощный', 2),\n",
              " ('бульдозер', 5),\n",
              " ('.', 1)]"
            ]
          },
          "metadata": {},
          "execution_count": 75
        }
      ]
    },
    {
      "cell_type": "code",
      "source": [
        "subtoken_amount['Qwen3_4B']['gsd']['test-s10']"
      ],
      "metadata": {
        "colab": {
          "base_uri": "https://localhost:8080/"
        },
        "id": "lDxRC5pAJ2hO",
        "outputId": "ec9874e9-90e6-46dd-81c9-091d100e182a"
      },
      "execution_count": 76,
      "outputs": [
        {
          "output_type": "execute_result",
          "data": {
            "text/plain": [
              "[('Узнав', 3),\n",
              " ('о', 1),\n",
              " ('её', 1),\n",
              " ('существовании', 3),\n",
              " ('на', 1),\n",
              " ('допросе', 3),\n",
              " ('благовещенского', 5),\n",
              " ('диакона', 3),\n",
              " ('Федора', 3),\n",
              " ('Иванова', 3),\n",
              " (',', 1),\n",
              " ('правительство', 2),\n",
              " ('озаботилось', 5),\n",
              " ('её', 1),\n",
              " ('конфискацией', 6),\n",
              " (',', 1),\n",
              " ('со', 1),\n",
              " ('всеми', 2),\n",
              " ('подготовленными', 3),\n",
              " ('списками', 2),\n",
              " (',', 1),\n",
              " ('и', 1),\n",
              " ('поручило', 3),\n",
              " ('написать', 3),\n",
              " ('на', 1),\n",
              " ('неё', 2),\n",
              " ('опровержение', 4),\n",
              " ('газскому', 4),\n",
              " ('митр', 3),\n",
              " ('.', 1)]"
            ]
          },
          "metadata": {},
          "execution_count": 76
        }
      ]
    },
    {
      "cell_type": "code",
      "source": [
        "model_names"
      ],
      "metadata": {
        "colab": {
          "base_uri": "https://localhost:8080/"
        },
        "id": "hqnX02aFucS7",
        "outputId": "e539dd1e-f009-4410-d261-ea3cfd4499ed"
      },
      "execution_count": 77,
      "outputs": [
        {
          "output_type": "execute_result",
          "data": {
            "text/plain": [
              "['Qwen3_4B', 'RuadaptQwen3_4B_Instruct']"
            ]
          },
          "metadata": {},
          "execution_count": 77
        }
      ]
    },
    {
      "cell_type": "code",
      "source": [
        "m_name1 = 'Qwen3_4B'\n",
        "m_name2 = 'RuadaptQwen3_4B_Instruct'"
      ],
      "metadata": {
        "id": "jemi-Vh6ueWf"
      },
      "execution_count": 78,
      "outputs": []
    },
    {
      "cell_type": "code",
      "source": [
        "pair_stat = { tr: [] for tr in treebank_names }\n",
        "for tr in treebank_names:\n",
        "  for s in treebanks[tr]:\n",
        "    assert len(subtoken_amount[m_name1][tr][s.sent_id]) == len(subtoken_amount[m_name2][tr][s.sent_id])\n",
        "\n",
        "    for i in range(len(subtoken_amount[m_name1][tr][s.sent_id])):\n",
        "        assert subtoken_amount[m_name1][tr][s.sent_id][i][0] == subtoken_amount[m_name2][tr][s.sent_id][i][0]\n",
        "\n",
        "        pair_stat[tr].append((s.sent_id, i\n",
        "                        , subtoken_amount[m_name1][tr][s.sent_id][i][1], subtoken_amount[m_name2][tr][s.sent_id][i][1]))"
      ],
      "metadata": {
        "id": "WMG7yT-YJ2kD"
      },
      "execution_count": 82,
      "outputs": []
    },
    {
      "cell_type": "code",
      "source": [
        "# m_name1, m_name2\n",
        "d = {}\n",
        "for (subtoken_len1, subtoken_len2), pair_amount in Counter([(x[2], x[3]) for x in pair_stat[tr] if x[2] != None and x[3] != None ]).items():\n",
        "  if subtoken_len1 in d:\n",
        "    d[subtoken_len1][subtoken_len2] = pair_amount\n",
        "  else:\n",
        "    d[subtoken_len1] = { subtoken_len2: pair_amount }"
      ],
      "metadata": {
        "id": "6KYmNbKnyQN3"
      },
      "execution_count": 94,
      "outputs": []
    },
    {
      "cell_type": "code",
      "source": [
        "d"
      ],
      "metadata": {
        "colab": {
          "base_uri": "https://localhost:8080/"
        },
        "id": "_SKZun1T_m5I",
        "outputId": "62fb23d9-43e3-4128-9aae-4d8c9f96b08f"
      },
      "execution_count": 97,
      "outputs": [
        {
          "output_type": "execute_result",
          "data": {
            "text/plain": [
              "{3: {3: 436, 1: 585, 2: 567, 4: 8},\n",
              " 2: {1: 1143, 3: 20, 2: 505},\n",
              " 1: {1: 5313, 2: 8, 3: 9},\n",
              " 5: {2: 60, 4: 93, 5: 33, 1: 62, 3: 104, 6: 2},\n",
              " 4: {1: 263, 3: 316, 2: 298, 4: 140, 5: 2, 6: 1},\n",
              " 11: {11: 1, 7: 1},\n",
              " 10: {10: 4, 6: 1},\n",
              " 6: {3: 22, 2: 15, 4: 23, 5: 19, 6: 4, 1: 13, 9: 1, 7: 1},\n",
              " 7: {6: 4, 5: 9, 7: 7, 3: 1, 8: 1, 4: 5, 2: 2},\n",
              " 8: {7: 2, 6: 5, 8: 3, 2: 1, 4: 2, 5: 2, 1: 1},\n",
              " 9: {7: 1, 5: 2},\n",
              " 14: {14: 1}}"
            ]
          },
          "metadata": {},
          "execution_count": 97
        }
      ]
    },
    {
      "cell_type": "code",
      "source": [
        "import pandas as pd\n",
        "pd.DataFrame(d)"
      ],
      "metadata": {
        "colab": {
          "base_uri": "https://localhost:8080/",
          "height": 426
        },
        "id": "d8i8pa28yQPj",
        "outputId": "a3b99335-7039-4cd6-8934-b4ef9b3fc432"
      },
      "execution_count": 96,
      "outputs": [
        {
          "output_type": "execute_result",
          "data": {
            "text/plain": [
              "       3       2       1      5      4    11   10    6    7    8    9    14\n",
              "3   436.0    20.0     9.0  104.0  316.0  NaN  NaN  22.0  1.0  NaN  NaN  NaN\n",
              "1   585.0  1143.0  5313.0   62.0  263.0  NaN  NaN  13.0  NaN  1.0  NaN  NaN\n",
              "2   567.0   505.0     8.0   60.0  298.0  NaN  NaN  15.0  2.0  1.0  NaN  NaN\n",
              "4     8.0     NaN     NaN   93.0  140.0  NaN  NaN  23.0  5.0  2.0  NaN  NaN\n",
              "5     NaN     NaN     NaN   33.0    2.0  NaN  NaN  19.0  9.0  2.0  2.0  NaN\n",
              "6     NaN     NaN     NaN    2.0    1.0  NaN  1.0   4.0  4.0  5.0  NaN  NaN\n",
              "11    NaN     NaN     NaN    NaN    NaN  1.0  NaN   NaN  NaN  NaN  NaN  NaN\n",
              "7     NaN     NaN     NaN    NaN    NaN  1.0  NaN   1.0  7.0  2.0  1.0  NaN\n",
              "10    NaN     NaN     NaN    NaN    NaN  NaN  4.0   NaN  NaN  NaN  NaN  NaN\n",
              "9     NaN     NaN     NaN    NaN    NaN  NaN  NaN   1.0  NaN  NaN  NaN  NaN\n",
              "8     NaN     NaN     NaN    NaN    NaN  NaN  NaN   NaN  1.0  3.0  NaN  NaN\n",
              "14    NaN     NaN     NaN    NaN    NaN  NaN  NaN   NaN  NaN  NaN  NaN  1.0"
            ],
            "text/html": [
              "\n",
              "  <div id=\"df-1b18c109-dcdb-45c3-a593-a862f616587b\" class=\"colab-df-container\">\n",
              "    <div>\n",
              "<style scoped>\n",
              "    .dataframe tbody tr th:only-of-type {\n",
              "        vertical-align: middle;\n",
              "    }\n",
              "\n",
              "    .dataframe tbody tr th {\n",
              "        vertical-align: top;\n",
              "    }\n",
              "\n",
              "    .dataframe thead th {\n",
              "        text-align: right;\n",
              "    }\n",
              "</style>\n",
              "<table border=\"1\" class=\"dataframe\">\n",
              "  <thead>\n",
              "    <tr style=\"text-align: right;\">\n",
              "      <th></th>\n",
              "      <th>3</th>\n",
              "      <th>2</th>\n",
              "      <th>1</th>\n",
              "      <th>5</th>\n",
              "      <th>4</th>\n",
              "      <th>11</th>\n",
              "      <th>10</th>\n",
              "      <th>6</th>\n",
              "      <th>7</th>\n",
              "      <th>8</th>\n",
              "      <th>9</th>\n",
              "      <th>14</th>\n",
              "    </tr>\n",
              "  </thead>\n",
              "  <tbody>\n",
              "    <tr>\n",
              "      <th>3</th>\n",
              "      <td>436.0</td>\n",
              "      <td>20.0</td>\n",
              "      <td>9.0</td>\n",
              "      <td>104.0</td>\n",
              "      <td>316.0</td>\n",
              "      <td>NaN</td>\n",
              "      <td>NaN</td>\n",
              "      <td>22.0</td>\n",
              "      <td>1.0</td>\n",
              "      <td>NaN</td>\n",
              "      <td>NaN</td>\n",
              "      <td>NaN</td>\n",
              "    </tr>\n",
              "    <tr>\n",
              "      <th>1</th>\n",
              "      <td>585.0</td>\n",
              "      <td>1143.0</td>\n",
              "      <td>5313.0</td>\n",
              "      <td>62.0</td>\n",
              "      <td>263.0</td>\n",
              "      <td>NaN</td>\n",
              "      <td>NaN</td>\n",
              "      <td>13.0</td>\n",
              "      <td>NaN</td>\n",
              "      <td>1.0</td>\n",
              "      <td>NaN</td>\n",
              "      <td>NaN</td>\n",
              "    </tr>\n",
              "    <tr>\n",
              "      <th>2</th>\n",
              "      <td>567.0</td>\n",
              "      <td>505.0</td>\n",
              "      <td>8.0</td>\n",
              "      <td>60.0</td>\n",
              "      <td>298.0</td>\n",
              "      <td>NaN</td>\n",
              "      <td>NaN</td>\n",
              "      <td>15.0</td>\n",
              "      <td>2.0</td>\n",
              "      <td>1.0</td>\n",
              "      <td>NaN</td>\n",
              "      <td>NaN</td>\n",
              "    </tr>\n",
              "    <tr>\n",
              "      <th>4</th>\n",
              "      <td>8.0</td>\n",
              "      <td>NaN</td>\n",
              "      <td>NaN</td>\n",
              "      <td>93.0</td>\n",
              "      <td>140.0</td>\n",
              "      <td>NaN</td>\n",
              "      <td>NaN</td>\n",
              "      <td>23.0</td>\n",
              "      <td>5.0</td>\n",
              "      <td>2.0</td>\n",
              "      <td>NaN</td>\n",
              "      <td>NaN</td>\n",
              "    </tr>\n",
              "    <tr>\n",
              "      <th>5</th>\n",
              "      <td>NaN</td>\n",
              "      <td>NaN</td>\n",
              "      <td>NaN</td>\n",
              "      <td>33.0</td>\n",
              "      <td>2.0</td>\n",
              "      <td>NaN</td>\n",
              "      <td>NaN</td>\n",
              "      <td>19.0</td>\n",
              "      <td>9.0</td>\n",
              "      <td>2.0</td>\n",
              "      <td>2.0</td>\n",
              "      <td>NaN</td>\n",
              "    </tr>\n",
              "    <tr>\n",
              "      <th>6</th>\n",
              "      <td>NaN</td>\n",
              "      <td>NaN</td>\n",
              "      <td>NaN</td>\n",
              "      <td>2.0</td>\n",
              "      <td>1.0</td>\n",
              "      <td>NaN</td>\n",
              "      <td>1.0</td>\n",
              "      <td>4.0</td>\n",
              "      <td>4.0</td>\n",
              "      <td>5.0</td>\n",
              "      <td>NaN</td>\n",
              "      <td>NaN</td>\n",
              "    </tr>\n",
              "    <tr>\n",
              "      <th>11</th>\n",
              "      <td>NaN</td>\n",
              "      <td>NaN</td>\n",
              "      <td>NaN</td>\n",
              "      <td>NaN</td>\n",
              "      <td>NaN</td>\n",
              "      <td>1.0</td>\n",
              "      <td>NaN</td>\n",
              "      <td>NaN</td>\n",
              "      <td>NaN</td>\n",
              "      <td>NaN</td>\n",
              "      <td>NaN</td>\n",
              "      <td>NaN</td>\n",
              "    </tr>\n",
              "    <tr>\n",
              "      <th>7</th>\n",
              "      <td>NaN</td>\n",
              "      <td>NaN</td>\n",
              "      <td>NaN</td>\n",
              "      <td>NaN</td>\n",
              "      <td>NaN</td>\n",
              "      <td>1.0</td>\n",
              "      <td>NaN</td>\n",
              "      <td>1.0</td>\n",
              "      <td>7.0</td>\n",
              "      <td>2.0</td>\n",
              "      <td>1.0</td>\n",
              "      <td>NaN</td>\n",
              "    </tr>\n",
              "    <tr>\n",
              "      <th>10</th>\n",
              "      <td>NaN</td>\n",
              "      <td>NaN</td>\n",
              "      <td>NaN</td>\n",
              "      <td>NaN</td>\n",
              "      <td>NaN</td>\n",
              "      <td>NaN</td>\n",
              "      <td>4.0</td>\n",
              "      <td>NaN</td>\n",
              "      <td>NaN</td>\n",
              "      <td>NaN</td>\n",
              "      <td>NaN</td>\n",
              "      <td>NaN</td>\n",
              "    </tr>\n",
              "    <tr>\n",
              "      <th>9</th>\n",
              "      <td>NaN</td>\n",
              "      <td>NaN</td>\n",
              "      <td>NaN</td>\n",
              "      <td>NaN</td>\n",
              "      <td>NaN</td>\n",
              "      <td>NaN</td>\n",
              "      <td>NaN</td>\n",
              "      <td>1.0</td>\n",
              "      <td>NaN</td>\n",
              "      <td>NaN</td>\n",
              "      <td>NaN</td>\n",
              "      <td>NaN</td>\n",
              "    </tr>\n",
              "    <tr>\n",
              "      <th>8</th>\n",
              "      <td>NaN</td>\n",
              "      <td>NaN</td>\n",
              "      <td>NaN</td>\n",
              "      <td>NaN</td>\n",
              "      <td>NaN</td>\n",
              "      <td>NaN</td>\n",
              "      <td>NaN</td>\n",
              "      <td>NaN</td>\n",
              "      <td>1.0</td>\n",
              "      <td>3.0</td>\n",
              "      <td>NaN</td>\n",
              "      <td>NaN</td>\n",
              "    </tr>\n",
              "    <tr>\n",
              "      <th>14</th>\n",
              "      <td>NaN</td>\n",
              "      <td>NaN</td>\n",
              "      <td>NaN</td>\n",
              "      <td>NaN</td>\n",
              "      <td>NaN</td>\n",
              "      <td>NaN</td>\n",
              "      <td>NaN</td>\n",
              "      <td>NaN</td>\n",
              "      <td>NaN</td>\n",
              "      <td>NaN</td>\n",
              "      <td>NaN</td>\n",
              "      <td>1.0</td>\n",
              "    </tr>\n",
              "  </tbody>\n",
              "</table>\n",
              "</div>\n",
              "    <div class=\"colab-df-buttons\">\n",
              "\n",
              "  <div class=\"colab-df-container\">\n",
              "    <button class=\"colab-df-convert\" onclick=\"convertToInteractive('df-1b18c109-dcdb-45c3-a593-a862f616587b')\"\n",
              "            title=\"Convert this dataframe to an interactive table.\"\n",
              "            style=\"display:none;\">\n",
              "\n",
              "  <svg xmlns=\"http://www.w3.org/2000/svg\" height=\"24px\" viewBox=\"0 -960 960 960\">\n",
              "    <path d=\"M120-120v-720h720v720H120Zm60-500h600v-160H180v160Zm220 220h160v-160H400v160Zm0 220h160v-160H400v160ZM180-400h160v-160H180v160Zm440 0h160v-160H620v160ZM180-180h160v-160H180v160Zm440 0h160v-160H620v160Z\"/>\n",
              "  </svg>\n",
              "    </button>\n",
              "\n",
              "  <style>\n",
              "    .colab-df-container {\n",
              "      display:flex;\n",
              "      gap: 12px;\n",
              "    }\n",
              "\n",
              "    .colab-df-convert {\n",
              "      background-color: #E8F0FE;\n",
              "      border: none;\n",
              "      border-radius: 50%;\n",
              "      cursor: pointer;\n",
              "      display: none;\n",
              "      fill: #1967D2;\n",
              "      height: 32px;\n",
              "      padding: 0 0 0 0;\n",
              "      width: 32px;\n",
              "    }\n",
              "\n",
              "    .colab-df-convert:hover {\n",
              "      background-color: #E2EBFA;\n",
              "      box-shadow: 0px 1px 2px rgba(60, 64, 67, 0.3), 0px 1px 3px 1px rgba(60, 64, 67, 0.15);\n",
              "      fill: #174EA6;\n",
              "    }\n",
              "\n",
              "    .colab-df-buttons div {\n",
              "      margin-bottom: 4px;\n",
              "    }\n",
              "\n",
              "    [theme=dark] .colab-df-convert {\n",
              "      background-color: #3B4455;\n",
              "      fill: #D2E3FC;\n",
              "    }\n",
              "\n",
              "    [theme=dark] .colab-df-convert:hover {\n",
              "      background-color: #434B5C;\n",
              "      box-shadow: 0px 1px 3px 1px rgba(0, 0, 0, 0.15);\n",
              "      filter: drop-shadow(0px 1px 2px rgba(0, 0, 0, 0.3));\n",
              "      fill: #FFFFFF;\n",
              "    }\n",
              "  </style>\n",
              "\n",
              "    <script>\n",
              "      const buttonEl =\n",
              "        document.querySelector('#df-1b18c109-dcdb-45c3-a593-a862f616587b button.colab-df-convert');\n",
              "      buttonEl.style.display =\n",
              "        google.colab.kernel.accessAllowed ? 'block' : 'none';\n",
              "\n",
              "      async function convertToInteractive(key) {\n",
              "        const element = document.querySelector('#df-1b18c109-dcdb-45c3-a593-a862f616587b');\n",
              "        const dataTable =\n",
              "          await google.colab.kernel.invokeFunction('convertToInteractive',\n",
              "                                                    [key], {});\n",
              "        if (!dataTable) return;\n",
              "\n",
              "        const docLinkHtml = 'Like what you see? Visit the ' +\n",
              "          '<a target=\"_blank\" href=https://colab.research.google.com/notebooks/data_table.ipynb>data table notebook</a>'\n",
              "          + ' to learn more about interactive tables.';\n",
              "        element.innerHTML = '';\n",
              "        dataTable['output_type'] = 'display_data';\n",
              "        await google.colab.output.renderOutput(dataTable, element);\n",
              "        const docLink = document.createElement('div');\n",
              "        docLink.innerHTML = docLinkHtml;\n",
              "        element.appendChild(docLink);\n",
              "      }\n",
              "    </script>\n",
              "  </div>\n",
              "\n",
              "\n",
              "    <div id=\"df-478ef01c-fafb-4608-8fb8-699ae9668303\">\n",
              "      <button class=\"colab-df-quickchart\" onclick=\"quickchart('df-478ef01c-fafb-4608-8fb8-699ae9668303')\"\n",
              "                title=\"Suggest charts\"\n",
              "                style=\"display:none;\">\n",
              "\n",
              "<svg xmlns=\"http://www.w3.org/2000/svg\" height=\"24px\"viewBox=\"0 0 24 24\"\n",
              "     width=\"24px\">\n",
              "    <g>\n",
              "        <path d=\"M19 3H5c-1.1 0-2 .9-2 2v14c0 1.1.9 2 2 2h14c1.1 0 2-.9 2-2V5c0-1.1-.9-2-2-2zM9 17H7v-7h2v7zm4 0h-2V7h2v10zm4 0h-2v-4h2v4z\"/>\n",
              "    </g>\n",
              "</svg>\n",
              "      </button>\n",
              "\n",
              "<style>\n",
              "  .colab-df-quickchart {\n",
              "      --bg-color: #E8F0FE;\n",
              "      --fill-color: #1967D2;\n",
              "      --hover-bg-color: #E2EBFA;\n",
              "      --hover-fill-color: #174EA6;\n",
              "      --disabled-fill-color: #AAA;\n",
              "      --disabled-bg-color: #DDD;\n",
              "  }\n",
              "\n",
              "  [theme=dark] .colab-df-quickchart {\n",
              "      --bg-color: #3B4455;\n",
              "      --fill-color: #D2E3FC;\n",
              "      --hover-bg-color: #434B5C;\n",
              "      --hover-fill-color: #FFFFFF;\n",
              "      --disabled-bg-color: #3B4455;\n",
              "      --disabled-fill-color: #666;\n",
              "  }\n",
              "\n",
              "  .colab-df-quickchart {\n",
              "    background-color: var(--bg-color);\n",
              "    border: none;\n",
              "    border-radius: 50%;\n",
              "    cursor: pointer;\n",
              "    display: none;\n",
              "    fill: var(--fill-color);\n",
              "    height: 32px;\n",
              "    padding: 0;\n",
              "    width: 32px;\n",
              "  }\n",
              "\n",
              "  .colab-df-quickchart:hover {\n",
              "    background-color: var(--hover-bg-color);\n",
              "    box-shadow: 0 1px 2px rgba(60, 64, 67, 0.3), 0 1px 3px 1px rgba(60, 64, 67, 0.15);\n",
              "    fill: var(--button-hover-fill-color);\n",
              "  }\n",
              "\n",
              "  .colab-df-quickchart-complete:disabled,\n",
              "  .colab-df-quickchart-complete:disabled:hover {\n",
              "    background-color: var(--disabled-bg-color);\n",
              "    fill: var(--disabled-fill-color);\n",
              "    box-shadow: none;\n",
              "  }\n",
              "\n",
              "  .colab-df-spinner {\n",
              "    border: 2px solid var(--fill-color);\n",
              "    border-color: transparent;\n",
              "    border-bottom-color: var(--fill-color);\n",
              "    animation:\n",
              "      spin 1s steps(1) infinite;\n",
              "  }\n",
              "\n",
              "  @keyframes spin {\n",
              "    0% {\n",
              "      border-color: transparent;\n",
              "      border-bottom-color: var(--fill-color);\n",
              "      border-left-color: var(--fill-color);\n",
              "    }\n",
              "    20% {\n",
              "      border-color: transparent;\n",
              "      border-left-color: var(--fill-color);\n",
              "      border-top-color: var(--fill-color);\n",
              "    }\n",
              "    30% {\n",
              "      border-color: transparent;\n",
              "      border-left-color: var(--fill-color);\n",
              "      border-top-color: var(--fill-color);\n",
              "      border-right-color: var(--fill-color);\n",
              "    }\n",
              "    40% {\n",
              "      border-color: transparent;\n",
              "      border-right-color: var(--fill-color);\n",
              "      border-top-color: var(--fill-color);\n",
              "    }\n",
              "    60% {\n",
              "      border-color: transparent;\n",
              "      border-right-color: var(--fill-color);\n",
              "    }\n",
              "    80% {\n",
              "      border-color: transparent;\n",
              "      border-right-color: var(--fill-color);\n",
              "      border-bottom-color: var(--fill-color);\n",
              "    }\n",
              "    90% {\n",
              "      border-color: transparent;\n",
              "      border-bottom-color: var(--fill-color);\n",
              "    }\n",
              "  }\n",
              "</style>\n",
              "\n",
              "      <script>\n",
              "        async function quickchart(key) {\n",
              "          const quickchartButtonEl =\n",
              "            document.querySelector('#' + key + ' button');\n",
              "          quickchartButtonEl.disabled = true;  // To prevent multiple clicks.\n",
              "          quickchartButtonEl.classList.add('colab-df-spinner');\n",
              "          try {\n",
              "            const charts = await google.colab.kernel.invokeFunction(\n",
              "                'suggestCharts', [key], {});\n",
              "          } catch (error) {\n",
              "            console.error('Error during call to suggestCharts:', error);\n",
              "          }\n",
              "          quickchartButtonEl.classList.remove('colab-df-spinner');\n",
              "          quickchartButtonEl.classList.add('colab-df-quickchart-complete');\n",
              "        }\n",
              "        (() => {\n",
              "          let quickchartButtonEl =\n",
              "            document.querySelector('#df-478ef01c-fafb-4608-8fb8-699ae9668303 button');\n",
              "          quickchartButtonEl.style.display =\n",
              "            google.colab.kernel.accessAllowed ? 'block' : 'none';\n",
              "        })();\n",
              "      </script>\n",
              "    </div>\n",
              "    </div>\n",
              "  </div>\n"
            ],
            "application/vnd.google.colaboratory.intrinsic+json": {
              "type": "dataframe",
              "summary": "{\n  \"name\": \"pd\",\n  \"rows\": 12,\n  \"fields\": [\n    {\n      \"column\": 3,\n      \"properties\": {\n        \"dtype\": \"number\",\n        \"std\": 268.99194535648587,\n        \"min\": 8.0,\n        \"max\": 585.0,\n        \"num_unique_values\": 4,\n        \"samples\": [\n          585.0,\n          8.0,\n          436.0\n        ],\n        \"semantic_type\": \"\",\n        \"description\": \"\"\n      }\n    },\n    {\n      \"column\": 2,\n      \"properties\": {\n        \"dtype\": \"number\",\n        \"std\": 563.2344094602175,\n        \"min\": 20.0,\n        \"max\": 1143.0,\n        \"num_unique_values\": 3,\n        \"samples\": [\n          20.0,\n          1143.0,\n          505.0\n        ],\n        \"semantic_type\": \"\",\n        \"description\": \"\"\n      }\n    },\n    {\n      \"column\": 1,\n      \"properties\": {\n        \"dtype\": \"number\",\n        \"std\": 3062.5545437319697,\n        \"min\": 8.0,\n        \"max\": 5313.0,\n        \"num_unique_values\": 3,\n        \"samples\": [\n          9.0,\n          5313.0,\n          8.0\n        ],\n        \"semantic_type\": \"\",\n        \"description\": \"\"\n      }\n    },\n    {\n      \"column\": 5,\n      \"properties\": {\n        \"dtype\": \"number\",\n        \"std\": 37.72532306024695,\n        \"min\": 2.0,\n        \"max\": 104.0,\n        \"num_unique_values\": 6,\n        \"samples\": [\n          104.0,\n          62.0,\n          2.0\n        ],\n        \"semantic_type\": \"\",\n        \"description\": \"\"\n      }\n    },\n    {\n      \"column\": 4,\n      \"properties\": {\n        \"dtype\": \"number\",\n        \"std\": 144.2456238504309,\n        \"min\": 1.0,\n        \"max\": 316.0,\n        \"num_unique_values\": 6,\n        \"samples\": [\n          316.0,\n          263.0,\n          1.0\n        ],\n        \"semantic_type\": \"\",\n        \"description\": \"\"\n      }\n    },\n    {\n      \"column\": 11,\n      \"properties\": {\n        \"dtype\": \"number\",\n        \"std\": 0.0,\n        \"min\": 1.0,\n        \"max\": 1.0,\n        \"num_unique_values\": 1,\n        \"samples\": [\n          1.0\n        ],\n        \"semantic_type\": \"\",\n        \"description\": \"\"\n      }\n    },\n    {\n      \"column\": 10,\n      \"properties\": {\n        \"dtype\": \"number\",\n        \"std\": 2.1213203435596424,\n        \"min\": 1.0,\n        \"max\": 4.0,\n        \"num_unique_values\": 2,\n        \"samples\": [\n          4.0\n        ],\n        \"semantic_type\": \"\",\n        \"description\": \"\"\n      }\n    },\n    {\n      \"column\": 6,\n      \"properties\": {\n        \"dtype\": \"number\",\n        \"std\": 9.145646895810987,\n        \"min\": 1.0,\n        \"max\": 23.0,\n        \"num_unique_values\": 7,\n        \"samples\": [\n          22.0\n        ],\n        \"semantic_type\": \"\",\n        \"description\": \"\"\n      }\n    },\n    {\n      \"column\": 7,\n      \"properties\": {\n        \"dtype\": \"number\",\n        \"std\": 3.0783421635988546,\n        \"min\": 1.0,\n        \"max\": 9.0,\n        \"num_unique_values\": 6,\n        \"samples\": [\n          1.0\n        ],\n        \"semantic_type\": \"\",\n        \"description\": \"\"\n      }\n    },\n    {\n      \"column\": 8,\n      \"properties\": {\n        \"dtype\": \"number\",\n        \"std\": 1.3801311186847083,\n        \"min\": 1.0,\n        \"max\": 5.0,\n        \"num_unique_values\": 4,\n        \"samples\": [\n          2.0\n        ],\n        \"semantic_type\": \"\",\n        \"description\": \"\"\n      }\n    },\n    {\n      \"column\": 9,\n      \"properties\": {\n        \"dtype\": \"number\",\n        \"std\": 0.7071067811865476,\n        \"min\": 1.0,\n        \"max\": 2.0,\n        \"num_unique_values\": 2,\n        \"samples\": [\n          1.0\n        ],\n        \"semantic_type\": \"\",\n        \"description\": \"\"\n      }\n    },\n    {\n      \"column\": 14,\n      \"properties\": {\n        \"dtype\": \"number\",\n        \"std\": null,\n        \"min\": 1.0,\n        \"max\": 1.0,\n        \"num_unique_values\": 1,\n        \"samples\": [\n          1.0\n        ],\n        \"semantic_type\": \"\",\n        \"description\": \"\"\n      }\n    }\n  ]\n}"
            }
          },
          "metadata": {},
          "execution_count": 96
        }
      ]
    },
    {
      "cell_type": "code",
      "source": [
        "from collections import Counter\n",
        "for tr in treebank_names:\n",
        "  x = Counter([(str(x[2]) if x[2] < 4 else \"3+\", str(x[3] if x[3] < 4 else \"3+\" ))\n",
        "                for x in pair_stat[tr] if x[2] != None and x[3] != None])\n",
        "\n",
        "  print(tr, \"\\n\", [(k, v) for (k, v) in x.items() if k[0] != k[1]])"
      ],
      "metadata": {
        "colab": {
          "base_uri": "https://localhost:8080/"
        },
        "id": "cTZ8pcvVvcMA",
        "outputId": "06207eea-dcb2-4801-a47f-3f464dfd30a5"
      },
      "execution_count": 85,
      "outputs": [
        {
          "output_type": "stream",
          "name": "stdout",
          "text": [
            "gsd \n",
            " [(('3', '2'), 574), (('3+', '2'), 536), (('2', '1'), 1254), (('3+', '3'), 546), (('3', '1'), 938), (('1', '2'), 20), (('3+', '1'), 627), (('3', '3+'), 14), (('2', '3'), 9), (('2', '3+'), 1), (('1', '3'), 4)]\n",
            "pud \n",
            " [(('2', '1'), 2448), (('3', '1'), 1759), (('3', '2'), 797), (('3+', '1'), 1109), (('3+', '2'), 897), (('3+', '3'), 735), (('2', '3'), 4), (('1', '2'), 2), (('3', '3+'), 4)]\n",
            "syntagrus \n",
            " [(('2', '1'), 19844), (('3+', '1'), 7301), (('3', '1'), 13078), (('3+', '3'), 5970), (('3+', '2'), 6915), (('3', '2'), 7147), (('2', '3'), 109), (('1', '2'), 17), (('3', '3+'), 32), (('1', '3'), 3)]\n",
            "poetry \n",
            " [(('3', '2'), 802), (('3+', '3'), 494), (('3', '1'), 802), (('2', '1'), 1123), (('3+', '1'), 201), (('3+', '2'), 389), (('1', '2'), 11), (('2', '3'), 12), (('3', '3+'), 8)]\n",
            "taiga \n",
            " [(('2', '1'), 1143), (('3+', '2'), 376), (('3', '1'), 585), (('2', '3'), 20), (('3+', '1'), 339), (('3+', '3'), 443), (('1', '2'), 8), (('3', '2'), 567), (('3', '3+'), 8), (('1', '3'), 9)]\n"
          ]
        }
      ]
    },
    {
      "cell_type": "code",
      "source": [
        "from collections import Counter\n",
        "for tr in treebank_names:\n",
        "  x = Counter([(x[2], x[3])\n",
        "                for x in pair_stat[tr] if x[2] == None and x[3] != None])\n",
        "\n",
        "  print(tr, \"\\n\", x)"
      ],
      "metadata": {
        "colab": {
          "base_uri": "https://localhost:8080/"
        },
        "id": "luLv_W9owUvB",
        "outputId": "e0376e51-357a-4a07-e230-8e94318e060c"
      },
      "execution_count": 91,
      "outputs": [
        {
          "output_type": "stream",
          "name": "stdout",
          "text": [
            "gsd \n",
            " Counter()\n",
            "pud \n",
            " Counter()\n",
            "syntagrus \n",
            " Counter()\n",
            "poetry \n",
            " Counter()\n",
            "taiga \n",
            " Counter()\n"
          ]
        }
      ]
    },
    {
      "cell_type": "code",
      "source": [
        "from collections import Counter\n",
        "for tr in treebank_names:\n",
        "  x = Counter([(x[2], x[3])\n",
        "                for x in pair_stat[tr] if x[2] != None and x[3] == None])\n",
        "\n",
        "  print(tr, \"\\n\", x)"
      ],
      "metadata": {
        "colab": {
          "base_uri": "https://localhost:8080/"
        },
        "id": "UV30laCAwfNz",
        "outputId": "28938d53-ce01-4373-c3c6-81781d93e421"
      },
      "execution_count": 90,
      "outputs": [
        {
          "output_type": "stream",
          "name": "stdout",
          "text": [
            "gsd \n",
            " Counter()\n",
            "pud \n",
            " Counter()\n",
            "syntagrus \n",
            " Counter({(1, None): 8, (2, None): 8})\n",
            "poetry \n",
            " Counter()\n",
            "taiga \n",
            " Counter()\n"
          ]
        }
      ]
    },
    {
      "cell_type": "code",
      "source": [
        "from collections import Counter\n",
        "for tr in treebank_names:\n",
        "  x = Counter([(x[2], x[3])\n",
        "                for x in pair_stat[tr] if x[2] == None and x[3] == None])\n",
        "\n",
        "  print(tr, \"\\n\", x)"
      ],
      "metadata": {
        "colab": {
          "base_uri": "https://localhost:8080/"
        },
        "id": "yOF39OogwpPm",
        "outputId": "af71dc52-c49b-4d4d-b9a3-3f006f39c784"
      },
      "execution_count": 92,
      "outputs": [
        {
          "output_type": "stream",
          "name": "stdout",
          "text": [
            "gsd \n",
            " Counter({(None, None): 322})\n",
            "pud \n",
            " Counter({(None, None): 268})\n",
            "syntagrus \n",
            " Counter({(None, None): 2372})\n",
            "poetry \n",
            " Counter({(None, None): 30})\n",
            "taiga \n",
            " Counter({(None, None): 152})\n"
          ]
        }
      ]
    },
    {
      "cell_type": "code",
      "source": [],
      "metadata": {
        "id": "Ta_B8S0-vXpb"
      },
      "execution_count": null,
      "outputs": []
    }
  ]
}